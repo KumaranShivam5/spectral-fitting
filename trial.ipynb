{
 "metadata": {
  "language_info": {
   "codemirror_mode": {
    "name": "ipython",
    "version": 3
   },
   "file_extension": ".py",
   "mimetype": "text/x-python",
   "name": "python",
   "nbconvert_exporter": "python",
   "pygments_lexer": "ipython3",
   "version": "3.7.3-final"
  },
  "orig_nbformat": 2,
  "kernelspec": {
   "name": "python_defaultSpec_1609700256259",
   "display_name": "Python 3.7.3 64-bit"
  }
 },
 "nbformat": 4,
 "nbformat_minor": 2,
 "cells": [
  {
   "cell_type": "code",
   "execution_count": 1,
   "metadata": {},
   "outputs": [],
   "source": [
    "import numpy as np \n",
    "from matplotlib import pyplot as plt \n",
    "import tensorflow as tf"
   ]
  },
  {
   "cell_type": "code",
   "execution_count": 3,
   "metadata": {
    "tags": []
   },
   "outputs": [
    {
     "output_type": "stream",
     "name": "stdout",
     "text": "Model: \"sequential_7\"\n_________________________________________________________________\nLayer (type)                 Output Shape              Param #   \n=================================================================\ndense_21 (Dense)             (None, 64)                8256      \n_________________________________________________________________\ndense_22 (Dense)             (None, 64)                4160      \n_________________________________________________________________\ndense_23 (Dense)             (None, 2)                 130       \n=================================================================\nTotal params: 12,546\nTrainable params: 12,546\nNon-trainable params: 0\n_________________________________________________________________\n"
    }
   ],
   "source": [
    "fc_model = tf.keras.models.load_model('fc_model')\n",
    "fc_model.summary()"
   ]
  },
  {
   "cell_type": "code",
   "execution_count": 4,
   "metadata": {},
   "outputs": [],
   "source": [
    "data = np.loadtxt('data_log_norm.csv')"
   ]
  },
  {
   "cell_type": "code",
   "execution_count": 5,
   "metadata": {},
   "outputs": [],
   "source": [
    "params = np.loadtxt('params.csv')"
   ]
  },
  {
   "cell_type": "code",
   "execution_count": 25,
   "metadata": {
    "tags": []
   },
   "outputs": [
    {
     "output_type": "stream",
     "name": "stdout",
     "text": "____________________________________________\nPredicted \t true\n2.237\t\t2.237\n1.726\t\t1.732\n____________________________________________\nPredicted \t true\n2.104\t\t2.103\n1.002\t\t0.997\n____________________________________________\nPredicted \t true\n0.890\t\t0.888\n1.285\t\t1.289\n____________________________________________\nPredicted \t true\n1.610\t\t1.611\n2.223\t\t2.234\n"
    }
   ],
   "source": [
    "pred = fc_model.predict(data[0:4])\n",
    "true = params[0:5]\n",
    "for p,t in zip(pred,true):\n",
    "    print('____________________________________________')\n",
    "    print('Predicted \\t true')\n",
    "    print('{:.3f}\\t\\t{:.3f}'.format(p[0],t[0]))\n",
    "    print('{:.3f}\\t\\t{:.3f}'.format(p[1],t[1])) \n"
   ]
  }
 ]
}